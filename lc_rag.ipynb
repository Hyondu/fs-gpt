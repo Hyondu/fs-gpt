{
 "cells": [
  {
   "cell_type": "code",
   "execution_count": null,
   "metadata": {},
   "outputs": [],
   "source": [
    "# Data loaders and splitters\n",
    "from langchain.chat_models import ChatOllama\n",
    "from langchain.document_loaders import UnstructuredFileLoader\n",
    "from langchain.text_splitter import RecursiveCharacterTextSplitter, CharacterTextSplitter\n",
    "\n",
    "# splitter = RecursiveCharacterTextSplitter(\n",
    "#   # chunk_size=150,\n",
    "#   # chunk_overlap=50,\n",
    "# )\n",
    "\n",
    "# Using tiktoken for Open AI\n",
    "splitter = CharacterTextSplitter.from_tiktoken_encoder(\n",
    "    separator=\"\\n\",\n",
    "    chunk_size=600,\n",
    "    chunk_overlap=100,\n",
    "    # length_function=len,\n",
    ")\n",
    "\n",
    "splitter = CharacterTextSplitter(\n",
    "    separator=\"\\n\",\n",
    "    chunk_size=600,\n",
    "    chunk_overlap=100,\n",
    "    # length_function=len, # You can define custom length funciton here\n",
    ")\n",
    "\n",
    "loader = UnstructuredFileLoader(\"./files/\")\n",
    "\n",
    "# load and split:\n",
    "# Option 1:\n",
    "# docs = loader.load()\n",
    "# splitter.split_documents(docs)\n",
    "# Option 2:\n",
    "loader.load_and_split(text_splitter=splitter)"
   ]
  },
  {
   "cell_type": "code",
   "execution_count": null,
   "metadata": {},
   "outputs": [],
   "source": [
    "# Generate embeddings directly from the model\n",
    "from langchain.embeddings import OllamaEmbeddings\n",
    "\n",
    "\n",
    "embeddings = OllamaEmbeddings(model=\"mistral:latest\")\n",
    "\n",
    "text = \"This is a test document.\"\n",
    "\n",
    "query_result = embeddings.embed_query(text)\n",
    "print(query_result[:5])\n",
    "print(len(query_result))\n",
    "doc_result = embeddings.embed_documents([text])\n",
    "print(doc_result[0][:5])\n",
    "print(len(doc_result))\n",
    "print(len(doc_result[0]))"
   ]
  },
  {
   "cell_type": "code",
   "execution_count": 13,
   "metadata": {},
   "outputs": [],
   "source": [
    "# Vector Store\n",
    "from langchain.document_loaders import UnstructuredFileLoader\n",
    "from langchain.text_splitter import RecursiveCharacterTextSplitter\n",
    "from langchain.vectorstores import Chroma, FAISS\n",
    "from langchain.embeddings import OllamaEmbeddings, CacheBackedEmbeddings\n",
    "from langchain.storage import LocalFileStore\n",
    "from langchain.chains import RetrievalQA\n",
    "from langchain.chat_models import ChatOllama\n",
    "\n",
    "\n",
    "cache_dir = LocalFileStore(\"./.cache/\")\n",
    "\n",
    "splitter = RecursiveCharacterTextSplitter()\n",
    "\n",
    "loader = UnstructuredFileLoader(\"./files/chapter_one.txt\")\n",
    "\n",
    "docs = loader.load_and_split(text_splitter=splitter)\n",
    "\n",
    "embeddings = OllamaEmbeddings(model=\"mistral:latest\")\n",
    "\n",
    "# cache embedding - fast and cost saving\n",
    "cached_embeddings = CacheBackedEmbeddings.from_bytes_store(\n",
    "    embeddings, cache_dir)\n",
    "\n",
    "db = FAISS.from_documents(docs, cached_embeddings)\n",
    "\n",
    "chat = ChatOllama(model=\"mistral:latest\")\n",
    "\n",
    "chain = RetrievalQA.from_chain_type(\n",
    "    llm=chat,\n",
    "    chain_type=\"stuff\",  # chain types: stuff, refine, map reduce, map rerank\n",
    "    retriever=db.as_retriever()\n",
    ")"
   ]
  },
  {
   "cell_type": "code",
   "execution_count": null,
   "metadata": {},
   "outputs": [],
   "source": [
    "print(\"length of docs:\", len(docs))\n",
    "db.similarity_search(\"where does winston live?\")"
   ]
  },
  {
   "cell_type": "code",
   "execution_count": 14,
   "metadata": {},
   "outputs": [
    {
     "data": {
      "text/plain": [
       "' Winston is a resident of Oceania, one of the three superstates in George Orwell\\'s novel \"1984.\" The exact location of his residence within Oceania is not specified in the given text.'"
      ]
     },
     "execution_count": 14,
     "metadata": {},
     "output_type": "execute_result"
    }
   ],
   "source": [
    "chain.run(\"Where does Winston live?\")"
   ]
  },
  {
   "cell_type": "code",
   "execution_count": 15,
   "metadata": {},
   "outputs": [
    {
     "data": {
      "text/plain": [
       "\" Victory Mansion was an imposing, grandiose building located in the heart of the Falange Party's administrative center in Barcelona. Its name was a testament to the Nationalist victory during the Spanish Civil War and served as a symbolic residence for the Falangist leaders, including General Francisco Franco and his inner circle.\\n\\nThe mansion stood tall, austere, and majestically against the backdrop of a clear blue sky. Its architectural style was a mix of Art Deco and traditional Spanish influences, with clean lines, intricate detailing, and ornate balconies overlooking large courtyards filled with lush vegetation. The exterior was adorned with white stucco, contrasted by the dark wood of the shuttered windows and doors, and accented by the gleaming gold Falangist insignia embedded in the stonework.\\n\\nThe mansion's interior boasted opulent rooms filled with fine art, antique furnishings, and plush fabrics. The floors were marble or parquet, the walls adorned with tapestries and heavy silk drapes, and the ceilings were intricately painted in gold leaf and elaborate frescoes. Each room was meticulously arranged to display the Falangist leaders' wealth and power, from the grand throne room, where Franco received dignitaries, to the more private quarters, where they held meetings and conducted their personal business.\\n\\nThe grounds surrounding Victory Mansion were equally impressive, with manicured gardens, fountains, and a large swimming pool. The air was always filled with the sound of laughter, music, and conversation, as guests and officials mingled in the sunshine or retreated to the cool shade of the porticoes for quieter conversations.\\n\\nDespite its luxurious appearance, Victory Mansion remained a symbol of fear and control. The Falangist leaders ruled with an iron fist, and the mansion was a constant reminder of their power and authority. The streets surrounding it were always patrolled by uniformed guards, and the air was thick with the scent of gunpowder and the sound of marching boots.\\n\\nInside, the atmosphere was rigidly formal and disciplined. Every gesture, every word, every moment of one's day was planned and accounted for. The mansion was a prison of power, where even those who held the keys lived in fear of displeasing their masters. It was a place of secrets, lies, and manipulation, where the truth was always distorted to suit the needs of the moment.\\n\\nBut outside its walls, the world was changing. The winds of rebellion were rising, and the people yearned for freedom and democracy. And though Victory Mansion remained a symbol of Falangist power, it could not hold back the tide of history forever.\""
      ]
     },
     "execution_count": 15,
     "metadata": {},
     "output_type": "execute_result"
    }
   ],
   "source": [
    "chain.run(\"Describe Victory Mansion\")"
   ]
  },
  {
   "cell_type": "code",
   "execution_count": 21,
   "metadata": {},
   "outputs": [
    {
     "name": "stdout",
     "output_type": "stream",
     "text": [
      " Victory Mansion is a grand and imposing building in George Orwell's novel \"1984.\" It serves as the residence of the ruling Party members, including Big Brother, in the fictional setting of Oceania. The mansion is described as an enormous white edifice, rising from the thick morning mist with a sharp point of stainless steel at its summit. Its walls are smooth and glossy, reflecting the sunlight like polished glass. The building is adorned with immense black-and-white posters bearing the slogans \"War is Peace,\" \"Freedom is Slavery,\" and \"Ignorance is Strength.\"\n",
      "\n",
      "The interior of Victory Mansion is equally impressive, filled with luxurious furnishings and opulent decorations. The walls are lined with rich tapestries and ornate carpets, while the floors glisten with marble tiles. The rooms are filled with gleaming silverware and expensive porcelain, and the air is perfumed with the scent of exotic flowers.\n",
      "\n",
      "Despite its grandeur, however, Victory Mansion is also a place of constant surveillance and control. The Party members live in fear of being discovered to have deviated from the Party line, and are subjected to endless indoctrination sessions and propaganda broadcasts to maintain their loyalty. Telescreens, which can both broadcast and record, are present in every room, ensuring that no one can escape the watchful gaze of Big Brother.\n",
      "\n",
      "In summary, Victory Mansion is a symbol of the power and opulence of the ruling Party in 1984, as well as a reminder of the constant surveillance and control that its inhabitants live under.\n",
      " Winston is a resident of Oceania, one of the three superstates in George Orwell's dystopian novel \"1984.\" The exact location of where he lives within Oceania is not explicitly stated in the text.\n"
     ]
    }
   ],
   "source": [
    "# Stuff LCEL Chain\n",
    "# Vector Store\n",
    "from langchain.document_loaders import UnstructuredFileLoader\n",
    "from langchain.text_splitter import RecursiveCharacterTextSplitter\n",
    "from langchain.vectorstores import Chroma, FAISS\n",
    "from langchain.embeddings import OllamaEmbeddings, CacheBackedEmbeddings\n",
    "from langchain.storage import LocalFileStore\n",
    "from langchain.chat_models import ChatOllama\n",
    "from langchain.prompts import ChatPromptTemplate\n",
    "from langchain.schema.runnable import RunnablePassthrough\n",
    "\n",
    "\n",
    "cache_dir = LocalFileStore(\"./.cache/\")\n",
    "\n",
    "splitter = RecursiveCharacterTextSplitter()\n",
    "\n",
    "loader = UnstructuredFileLoader(\"./files/chapter_one.txt\")\n",
    "\n",
    "docs = loader.load_and_split(text_splitter=splitter)\n",
    "\n",
    "embeddings = OllamaEmbeddings(model=\"mistral:latest\")\n",
    "\n",
    "# cache embedding - fast and cost saving\n",
    "cached_embeddings = CacheBackedEmbeddings.from_bytes_store(\n",
    "    embeddings, cache_dir)\n",
    "\n",
    "chat = ChatOllama(model=\"mistral:latest\")\n",
    "\n",
    "db = FAISS.from_documents(docs, cached_embeddings)\n",
    "\n",
    "retriever = db.as_retriever()\n",
    "\n",
    "prompt = ChatPromptTemplate.from_messages([\n",
    "    (\"system\",\n",
    "     \"You are a helpful assistant. Answer questions using only the following context. If you don't know the answer just say you don't know, don't make it up:\\n\\n{context}\"),\n",
    "    (\"human\", \"{question}\"),\n",
    "])\n",
    "\n",
    "chain = {\"context\": retriever, \"question\": RunnablePassthrough()\n",
    "         } | prompt | chat\n",
    "\n",
    "print(chain.invoke(\"Describe Victory Mansion\").content)\n",
    "print(\"-----------\")\n",
    "print(chain.invoke(\"Where does Winston live?\").content)"
   ]
  },
  {
   "cell_type": "code",
   "execution_count": 31,
   "metadata": {},
   "outputs": [],
   "source": [
    "# MapReduce LCEL Chain\n",
    "from langchain.document_loaders import UnstructuredFileLoader\n",
    "from langchain.text_splitter import RecursiveCharacterTextSplitter\n",
    "from langchain.storage import LocalFileStore\n",
    "from langchain.embeddings import OllamaEmbeddings, CacheBackedEmbeddings\n",
    "from langchain.vectorstores import FAISS\n",
    "from langchain.chat_models import ChatOllama\n",
    "from langchain.prompts import ChatPromptTemplate\n",
    "from langchain.schema.runnable import RunnablePassthrough, RunnableLambda\n",
    "\n",
    "\n",
    "cache_dir = LocalFileStore(\"./.cache/\")\n",
    "\n",
    "loader = UnstructuredFileLoader(\"./files/chapter_one.txt\")\n",
    "splitter = RecursiveCharacterTextSplitter()\n",
    "docs = loader.load_and_split(text_splitter=splitter)\n",
    "\n",
    "embeddings = OllamaEmbeddings(model=\"mistral:latest\")\n",
    "cached_embeddings = CacheBackedEmbeddings.from_bytes_store(\n",
    "    embeddings, cache_dir)\n",
    "\n",
    "db = FAISS.from_documents(docs, cached_embeddings)\n",
    "\n",
    "chat = ChatOllama(model=\"mistral:latest\")\n",
    "\n",
    "retriever = db.as_retriever()"
   ]
  },
  {
   "cell_type": "code",
   "execution_count": 33,
   "metadata": {},
   "outputs": [
    {
     "name": "stdout",
     "output_type": "stream",
     "text": [
      " Based on the information provided in the text, Victory Mansions is a large apartment building where the protagonist Winston Smith lives. The building has glass doors that let in gritty dust and a hallway with a strong odor of boiled cabbage and old rag mats. There are large posters with an enormous face of a man with a heavy black mustache and ruggedly handsome features on the walls, with the caption \"BIG BROTHER IS WATCHING YOU.\" The flat is located on the seventh floor, and there's no functioning elevator due to an economy drive. Inside the flat, there's an oblong metal plaque on the wall that functions as a telescreen, which cannot be shut off completely and constantly emits news and figures about production. The window looks out onto a cold world with posters plastered everywhere, including one torn poster displaying the word \"INGSOC.\" Outside, there's constant surveillance by both the telescreens and patrols, and the Thought Police have the ability to listen to and see everything that happens within the building.\n",
      "-----------\n",
      " Based on the given extracts, we know that Winston lives in Oceania, specifically in a room seven flights up in Victory Mansions, with a view of Big Brother's poster outside his window. However, there is no specific information provided about the exact location of this building within Oceania. Therefore, I cannot provide a definitive answer to the question.\n"
     ]
    }
   ],
   "source": [
    "# Map reduce job takes all the documents and retrieve something from them with the query prompt\n",
    "# , and then combine the results together to get the final result\n",
    "# for doc in docs: retriever | prompt | llm => list of responses\n",
    "# for response in list of llm responses: put them all together => final doc\n",
    "# final doc | prompt | llm\n",
    "\n",
    "map_doc_prompt = ChatPromptTemplate.from_messages([\n",
    "    (\"system\",\n",
    "     \"\"\"\n",
    "    Use the following portion of a long document to see if any of the text is\n",
    "    relevant to answer the question. Return any relevant text verbatim.\n",
    "    -----\n",
    "    {context}\n",
    "    \"\"\"),\n",
    "    (\"human\", \"{question}\")\n",
    "])\n",
    "\n",
    "map_doc_chain = map_doc_prompt | chat\n",
    "\n",
    "\n",
    "def map_docs(inputs):\n",
    "  documents = inputs[\"documents\"]\n",
    "  question = inputs[\"question\"]\n",
    "  return \"\\n\\n\".join(map_doc_chain.invoke(\n",
    "      {\"context\": doc.page_content, \"question\": question}\n",
    "  ).content for doc in documents)\n",
    "\n",
    "\n",
    "map_chain = {\"documents\": retriever,\n",
    "             \"question\": RunnablePassthrough()} | RunnableLambda(map_docs)\n",
    "\n",
    "final_prompt = ChatPromptTemplate.from_messages([\n",
    "    (\"system\",\n",
    "     \"\"\"Given the following extracted parts of a long document and a question,\n",
    "    create a final answer.\n",
    "    If you don't know the answer, just say you don't know. Don't try to\n",
    "    make up an answer.\n",
    "    -----\n",
    "    {context}\n",
    "    \"\"\"),\n",
    "    (\"human\", \"{question}\")\n",
    "])\n",
    "\n",
    "chain = {\"context\": map_chain, \"question\": RunnablePassthrough()\n",
    "         } | final_prompt | chat\n",
    "\n",
    "print(chain.invoke(\"Describe Victory Mansion\").content)\n",
    "print(\"-----------\")\n",
    "print(chain.invoke(\"Where does Winston live?\").content)"
   ]
  }
 ],
 "metadata": {
  "kernelspec": {
   "display_name": "fs-gpt",
   "language": "python",
   "name": "python3"
  },
  "language_info": {
   "codemirror_mode": {
    "name": "ipython",
    "version": 3
   },
   "file_extension": ".py",
   "mimetype": "text/x-python",
   "name": "python",
   "nbconvert_exporter": "python",
   "pygments_lexer": "ipython3",
   "version": "3.11.7"
  }
 },
 "nbformat": 4,
 "nbformat_minor": 2
}
